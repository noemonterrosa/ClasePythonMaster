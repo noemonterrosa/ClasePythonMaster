{
 "cells": [
  {
   "attachments": {},
   "cell_type": "markdown",
   "metadata": {},
   "source": [
    "# Proyecto 1 de Ciencia sde Datos con Python\n",
    "## Regression de una variable"
   ]
  },
  {
   "cell_type": "code",
   "execution_count": 8,
   "metadata": {},
   "outputs": [],
   "source": [
    "import numpy as np\n",
    "import os"
   ]
  },
  {
   "cell_type": "code",
   "execution_count": 13,
   "metadata": {},
   "outputs": [
    {
     "name": "stdout",
     "output_type": "stream",
     "text": [
      "c:\\Users\\noem9\\Documents\\Maestria Data Science\\Python\\ClasePythonMaster\\proyecto_data\n"
     ]
    }
   ],
   "source": [
    "# Get the current working directory\n",
    "current_directory = os.getcwd()\n",
    "\n",
    "# Print the current directory\n",
    "print(current_directory)"
   ]
  },
  {
   "cell_type": "code",
   "execution_count": null,
   "metadata": {},
   "outputs": [],
   "source": [
    "os.chdir('\\proyecto_data')\n",
    "data1 = np.load('proyecto_training_data.npy')\n",
    "print(data1)"
   ]
  },
  {
   "cell_type": "code",
   "execution_count": 15,
   "metadata": {},
   "outputs": [
    {
     "name": "stdout",
     "output_type": "stream",
     "text": [
      "1168\n"
     ]
    }
   ],
   "source": [
    "#Vamos a particionar el array en subsets de entrenamiento y prueba\n",
    "subset = int(len(data1) * 0.8)\n",
    "print(subset)\n",
    "train = data1[:subset]\n",
    "test = data1[subset:]"
   ]
  },
  {
   "cell_type": "code",
   "execution_count": 17,
   "metadata": {},
   "outputs": [
    {
     "name": "stdout",
     "output_type": "stream",
     "text": [
      "Column media: [1.80921196e+05 6.09931507e+00 1.16262671e+03 6.51780822e+00\n",
      " 1.97126781e+03            nan]\n",
      "Column mediana: [1.630e+05 6.000e+00 1.087e+03 6.000e+00 1.973e+03       nan]\n",
      "Column standard deviations: [7.94152919e+04 1.38252284e+00 3.86455322e+02 1.62483655e+00\n",
      " 3.01925588e+01            nan]\n",
      "Column minimo: [3.490e+04 1.000e+00 3.340e+02 2.000e+00 1.872e+03       nan]\n",
      "Column maximo: [7.550e+05 1.000e+01 4.692e+03 1.400e+01 2.010e+03       nan]\n",
      "Column rango: [7.201e+05 9.000e+00 4.358e+03 1.200e+01 1.380e+02       nan]\n"
     ]
    }
   ],
   "source": [
    "#Analisis exploratorio de los datos\n",
    "\n",
    "# Media\n",
    "column_media = np.mean(data1, axis=0)\n",
    "\n",
    "# Mediana\n",
    "column_mediana = np.median(data1, axis=0)\n",
    "\n",
    "# Desviacion Estandar\n",
    "column_stds = np.std(data1, axis=0)\n",
    "\n",
    "# Minimo\n",
    "column_mins = np.min(data1, axis=0)\n",
    "\n",
    "# Maximo\n",
    "column_maxs = np.max(data1, axis=0)\n",
    "\n",
    "# Rango (peak-to-peak) \n",
    "column_ranges = np.ptp(data1, axis=0)\n",
    "\n",
    "# Print the results\n",
    "print(\"Column media:\", column_media)\n",
    "print(\"Column mediana:\", column_mediana)\n",
    "print(\"Column standard deviations:\", column_stds)\n",
    "print(\"Column minimo:\", column_mins)\n",
    "print(\"Column maximo:\", column_maxs)\n",
    "print(\"Column rango:\", column_ranges)"
   ]
  }
 ],
 "metadata": {
  "kernelspec": {
   "display_name": "MaestriaDS",
   "language": "python",
   "name": "python3"
  },
  "language_info": {
   "codemirror_mode": {
    "name": "ipython",
    "version": 3
   },
   "file_extension": ".py",
   "mimetype": "text/x-python",
   "name": "python",
   "nbconvert_exporter": "python",
   "pygments_lexer": "ipython3",
   "version": "3.7.16"
  },
  "orig_nbformat": 4,
  "vscode": {
   "interpreter": {
    "hash": "c50ad6c0bd8c3d120c6b98f2665008bc1297f652a15e3f702762e2640bc8c488"
   }
  }
 },
 "nbformat": 4,
 "nbformat_minor": 2
}
