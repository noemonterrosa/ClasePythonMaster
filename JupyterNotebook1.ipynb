{
 "cells": [
  {
   "attachments": {},
   "cell_type": "markdown",
   "metadata": {},
   "source": [
    "# TAREA 1 USO DE GIT"
   ]
  },
  {
   "attachments": {},
   "cell_type": "markdown",
   "metadata": {},
   "source": [
    "## Creacion de Jupyter Notebook para luego ser subido a repositorio"
   ]
  },
  {
   "attachments": {},
   "cell_type": "markdown",
   "metadata": {},
   "source": [
    "### Nombre de repositorio: Clase Python Master"
   ]
  },
  {
   "attachments": {},
   "cell_type": "markdown",
   "metadata": {},
   "source": [
    "| Pais | Ronda Final | Puesto |\n",
    "|:-----|:------------|:-------|\n",
    "|Argentina|Final     |1       |\n",
    "|Francia|Final       |2       |\n",
    "|Croacia|Partido 3er lugar|3  |\n",
    "|Marruecos|Partido 3er lugar|4|     "
   ]
  }
 ],
 "metadata": {
  "kernelspec": {
   "display_name": "MaestriaDS",
   "language": "python",
   "name": "python3"
  },
  "language_info": {
   "codemirror_mode": {
    "name": "ipython",
    "version": 3
   },
   "file_extension": ".py",
   "mimetype": "text/x-python",
   "name": "python",
   "nbconvert_exporter": "python",
   "pygments_lexer": "ipython3",
   "version": "3.7.16"
  },
  "orig_nbformat": 4,
  "vscode": {
   "interpreter": {
    "hash": "c50ad6c0bd8c3d120c6b98f2665008bc1297f652a15e3f702762e2640bc8c488"
   }
  }
 },
 "nbformat": 4,
 "nbformat_minor": 2
}
