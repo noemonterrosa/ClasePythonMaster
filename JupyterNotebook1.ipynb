{
 "cells": [
  {
   "attachments": {},
   "cell_type": "markdown",
   "metadata": {},
   "source": [
    "# TAREA 1 USO DE GIT"
   ]
  },
  {
   "attachments": {},
   "cell_type": "markdown",
   "metadata": {},
   "source": [
    "## Creacion de Jupyter Notebook para luego ser subido a repositorio"
   ]
  },
  {
   "attachments": {},
   "cell_type": "markdown",
   "metadata": {},
   "source": [
    "### Nombre de repositorio: Clase Python Master"
   ]
  },
  {
   "attachments": {},
   "cell_type": "markdown",
   "metadata": {},
   "source": [
    "Ejemplo de tabla"
   ]
  },
  {
   "attachments": {},
   "cell_type": "markdown",
   "metadata": {},
   "source": [
    "En el articulo habla de como utilizar Git y de algunos de los principales comandos que se utilizan para poder descargar, actualizar y unir codigo. El control de versiones es util para poder conocer **quien escribio el codigo, cuando fue editado, y otros detalles importantes cuando se quiere arreglar problemas**. Git tambien funciona en terminos de *blobs y arboles*, los cuales son archivos y directorios, respectivamente.Tambien el articulo nos habla de como crear repositorios y nos brinda una guia general de los principales comandos para usar git."
   ]
  },
  {
   "attachments": {},
   "cell_type": "markdown",
   "metadata": {},
   "source": [
    "Ejemplo de Tabla"
   ]
  },
  {
   "cell_type": "markdown",
   "metadata": {},
   "source": [
    "| Pais | Ronda Final | Puesto |\n",
    "|:-----|:------------|:-------|\n",
    "|Argentina|Final     |1       |\n",
    "|Francia|Final       |2       |\n",
    "|Croacia|Partido 3er lugar|3  |\n",
    "|Marruecos|Partido 3er lugar|4|     "
   ]
  },
  {
   "attachments": {},
   "cell_type": "markdown",
   "metadata": {},
   "source": [
    "Otra cosa importante que menciona el articulo es como las diferentes versiones de un archivo se pueden ir actualizando, e incluso se pueden separar para poder trabajar dos desarrollos en paralelo sobre el mismo codigo, y luego volver a unir los desarrollos, se muestra en la siguiente imagen:"
   ]
  },
  {
   "attachments": {},
   "cell_type": "markdown",
   "metadata": {},
   "source": [
    "![Diagrama](diag.png)"
   ]
  }
 ],
 "metadata": {
  "kernelspec": {
   "display_name": "MaestriaDS",
   "language": "python",
   "name": "python3"
  },
  "language_info": {
   "codemirror_mode": {
    "name": "ipython",
    "version": 3
   },
   "file_extension": ".py",
   "mimetype": "text/x-python",
   "name": "python",
   "nbconvert_exporter": "python",
   "pygments_lexer": "ipython3",
   "version": "3.7.16"
  },
  "orig_nbformat": 4,
  "vscode": {
   "interpreter": {
    "hash": "c50ad6c0bd8c3d120c6b98f2665008bc1297f652a15e3f702762e2640bc8c488"
   }
  }
 },
 "nbformat": 4,
 "nbformat_minor": 2
}
