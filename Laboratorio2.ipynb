{
 "cells": [
  {
   "attachments": {},
   "cell_type": "markdown",
   "metadata": {},
   "source": [
    "# Laboratorio 2"
   ]
  },
  {
   "cell_type": "code",
   "execution_count": 12,
   "metadata": {},
   "outputs": [],
   "source": [
    "import math\n",
    "import numpy as np\n",
    "import datetime\n",
    "import random"
   ]
  },
  {
   "attachments": {},
   "cell_type": "markdown",
   "metadata": {},
   "source": [
    "### Ejercicio 1"
   ]
  },
  {
   "cell_type": "code",
   "execution_count": 2,
   "metadata": {},
   "outputs": [],
   "source": [
    "def Segundos(seg):\n",
    "    horas = seg // 3600\n",
    "    minutos = (seg % 3600) // 60\n",
    "    segundos = (seg % 3600) % 60\n",
    "    return horas, minutos, segundos\n"
   ]
  },
  {
   "cell_type": "code",
   "execution_count": 3,
   "metadata": {},
   "outputs": [
    {
     "name": "stdout",
     "output_type": "stream",
     "text": [
      "los segundos 7200 en formato hh:mm:ss son: 2 horas, 0 minutos, 0 segundos\n"
     ]
    }
   ],
   "source": [
    "segs = 7200\n",
    "horas, min, seg = Segundos(segs)\n",
    "print(f'los segundos {segs} en formato hh:mm:ss son: {horas} horas, {min} minutos, {seg} segundos')"
   ]
  },
  {
   "attachments": {},
   "cell_type": "markdown",
   "metadata": {},
   "source": [
    "### Ejercicio 2"
   ]
  },
  {
   "cell_type": "code",
   "execution_count": 4,
   "metadata": {},
   "outputs": [],
   "source": [
    "def triangulo(num,sim):\n",
    "    if (num <21):\n",
    "        for i in range(num):\n",
    "            print(f'   {sim} \\n  {sim}{sim}{sim} \\n {sim}{sim}{sim}{sim}{sim} \\n')\n",
    "    else:\n",
    "        print(f'Error, el numero tiene que ser entre 4 y 20')\n",
    "\n",
    "\n",
    "\n"
   ]
  },
  {
   "cell_type": "code",
   "execution_count": 5,
   "metadata": {},
   "outputs": [
    {
     "name": "stdout",
     "output_type": "stream",
     "text": [
      "   * \n",
      "  *** \n",
      " ***** \n",
      "\n",
      "   * \n",
      "  *** \n",
      " ***** \n",
      "\n",
      "   * \n",
      "  *** \n",
      " ***** \n",
      "\n",
      "   * \n",
      "  *** \n",
      " ***** \n",
      "\n",
      "   * \n",
      "  *** \n",
      " ***** \n",
      "\n",
      "   * \n",
      "  *** \n",
      " ***** \n",
      "\n",
      "   * \n",
      "  *** \n",
      " ***** \n",
      "\n",
      "   * \n",
      "  *** \n",
      " ***** \n",
      "\n",
      "   * \n",
      "  *** \n",
      " ***** \n",
      "\n",
      "   * \n",
      "  *** \n",
      " ***** \n",
      "\n"
     ]
    }
   ],
   "source": [
    "sim = '*'\n",
    "triangulo(10,sim)"
   ]
  },
  {
   "attachments": {},
   "cell_type": "markdown",
   "metadata": {},
   "source": [
    "### Ejercicio 3"
   ]
  },
  {
   "cell_type": "code",
   "execution_count": 6,
   "metadata": {},
   "outputs": [],
   "source": [
    "import datetime\n",
    "import math\n",
    "def edad(f_nac):\n",
    "    fecha_nacimiento = datetime.datetime.strptime(f_nac, '%Y-%m-%d')\n",
    "    month = datetime.datetime.now().month - fecha_nacimiento.month\n",
    "    if month<0:\n",
    "        year = math.floor(datetime.datetime.now().year - fecha_nacimiento.year +month/12)\n",
    "        month = 12 + month\n",
    "    else:\n",
    "        year = datetime.datetime.now().year - fecha_nacimiento.year\n",
    "    day = datetime.datetime.now().day - fecha_nacimiento.day\n",
    "    print(f'Tu edad es: {year} años, {month} meses con {day} dias')\n"
   ]
  },
  {
   "cell_type": "code",
   "execution_count": 7,
   "metadata": {},
   "outputs": [
    {
     "ename": "ValueError",
     "evalue": "time data '' does not match format '%Y-%m-%d'",
     "output_type": "error",
     "traceback": [
      "\u001b[1;31m---------------------------------------------------------------------------\u001b[0m",
      "\u001b[1;31mValueError\u001b[0m                                Traceback (most recent call last)",
      "\u001b[1;32m~\\AppData\\Local\\Temp\\ipykernel_20584\\2651905911.py\u001b[0m in \u001b[0;36m<module>\u001b[1;34m\u001b[0m\n\u001b[0;32m      1\u001b[0m \u001b[0mf_nac\u001b[0m \u001b[1;33m=\u001b[0m \u001b[0minput\u001b[0m\u001b[1;33m(\u001b[0m\u001b[1;34m'Ingrese su fecha de nacimiento aaaa-mm-dd'\u001b[0m\u001b[1;33m)\u001b[0m\u001b[1;33m\u001b[0m\u001b[1;33m\u001b[0m\u001b[0m\n\u001b[1;32m----> 2\u001b[1;33m \u001b[0medad\u001b[0m \u001b[1;33m=\u001b[0m \u001b[0medad\u001b[0m\u001b[1;33m(\u001b[0m\u001b[0mf_nac\u001b[0m\u001b[1;33m)\u001b[0m\u001b[1;33m\u001b[0m\u001b[1;33m\u001b[0m\u001b[0m\n\u001b[0m",
      "\u001b[1;32m~\\AppData\\Local\\Temp\\ipykernel_20584\\1179025758.py\u001b[0m in \u001b[0;36medad\u001b[1;34m(f_nac)\u001b[0m\n\u001b[0;32m      2\u001b[0m \u001b[1;32mimport\u001b[0m \u001b[0mmath\u001b[0m\u001b[1;33m\u001b[0m\u001b[1;33m\u001b[0m\u001b[0m\n\u001b[0;32m      3\u001b[0m \u001b[1;32mdef\u001b[0m \u001b[0medad\u001b[0m\u001b[1;33m(\u001b[0m\u001b[0mf_nac\u001b[0m\u001b[1;33m)\u001b[0m\u001b[1;33m:\u001b[0m\u001b[1;33m\u001b[0m\u001b[1;33m\u001b[0m\u001b[0m\n\u001b[1;32m----> 4\u001b[1;33m     \u001b[0mfecha_nacimiento\u001b[0m \u001b[1;33m=\u001b[0m \u001b[0mdatetime\u001b[0m\u001b[1;33m.\u001b[0m\u001b[0mdatetime\u001b[0m\u001b[1;33m.\u001b[0m\u001b[0mstrptime\u001b[0m\u001b[1;33m(\u001b[0m\u001b[0mf_nac\u001b[0m\u001b[1;33m,\u001b[0m \u001b[1;34m'%Y-%m-%d'\u001b[0m\u001b[1;33m)\u001b[0m\u001b[1;33m\u001b[0m\u001b[1;33m\u001b[0m\u001b[0m\n\u001b[0m\u001b[0;32m      5\u001b[0m     \u001b[0mmonth\u001b[0m \u001b[1;33m=\u001b[0m \u001b[0mdatetime\u001b[0m\u001b[1;33m.\u001b[0m\u001b[0mdatetime\u001b[0m\u001b[1;33m.\u001b[0m\u001b[0mnow\u001b[0m\u001b[1;33m(\u001b[0m\u001b[1;33m)\u001b[0m\u001b[1;33m.\u001b[0m\u001b[0mmonth\u001b[0m \u001b[1;33m-\u001b[0m \u001b[0mfecha_nacimiento\u001b[0m\u001b[1;33m.\u001b[0m\u001b[0mmonth\u001b[0m\u001b[1;33m\u001b[0m\u001b[1;33m\u001b[0m\u001b[0m\n\u001b[0;32m      6\u001b[0m     \u001b[1;32mif\u001b[0m \u001b[0mmonth\u001b[0m\u001b[1;33m<\u001b[0m\u001b[1;36m0\u001b[0m\u001b[1;33m:\u001b[0m\u001b[1;33m\u001b[0m\u001b[1;33m\u001b[0m\u001b[0m\n",
      "\u001b[1;32mc:\\Users\\noem9\\anaconda3\\envs\\MaestriaDS\\lib\\_strptime.py\u001b[0m in \u001b[0;36m_strptime_datetime\u001b[1;34m(cls, data_string, format)\u001b[0m\n\u001b[0;32m    575\u001b[0m     \"\"\"Return a class cls instance based on the input string and the\n\u001b[0;32m    576\u001b[0m     format string.\"\"\"\n\u001b[1;32m--> 577\u001b[1;33m     \u001b[0mtt\u001b[0m\u001b[1;33m,\u001b[0m \u001b[0mfraction\u001b[0m\u001b[1;33m,\u001b[0m \u001b[0mgmtoff_fraction\u001b[0m \u001b[1;33m=\u001b[0m \u001b[0m_strptime\u001b[0m\u001b[1;33m(\u001b[0m\u001b[0mdata_string\u001b[0m\u001b[1;33m,\u001b[0m \u001b[0mformat\u001b[0m\u001b[1;33m)\u001b[0m\u001b[1;33m\u001b[0m\u001b[1;33m\u001b[0m\u001b[0m\n\u001b[0m\u001b[0;32m    578\u001b[0m     \u001b[0mtzname\u001b[0m\u001b[1;33m,\u001b[0m \u001b[0mgmtoff\u001b[0m \u001b[1;33m=\u001b[0m \u001b[0mtt\u001b[0m\u001b[1;33m[\u001b[0m\u001b[1;33m-\u001b[0m\u001b[1;36m2\u001b[0m\u001b[1;33m:\u001b[0m\u001b[1;33m]\u001b[0m\u001b[1;33m\u001b[0m\u001b[1;33m\u001b[0m\u001b[0m\n\u001b[0;32m    579\u001b[0m     \u001b[0margs\u001b[0m \u001b[1;33m=\u001b[0m \u001b[0mtt\u001b[0m\u001b[1;33m[\u001b[0m\u001b[1;33m:\u001b[0m\u001b[1;36m6\u001b[0m\u001b[1;33m]\u001b[0m \u001b[1;33m+\u001b[0m \u001b[1;33m(\u001b[0m\u001b[0mfraction\u001b[0m\u001b[1;33m,\u001b[0m\u001b[1;33m)\u001b[0m\u001b[1;33m\u001b[0m\u001b[1;33m\u001b[0m\u001b[0m\n",
      "\u001b[1;32mc:\\Users\\noem9\\anaconda3\\envs\\MaestriaDS\\lib\\_strptime.py\u001b[0m in \u001b[0;36m_strptime\u001b[1;34m(data_string, format)\u001b[0m\n\u001b[0;32m    357\u001b[0m     \u001b[1;32mif\u001b[0m \u001b[1;32mnot\u001b[0m \u001b[0mfound\u001b[0m\u001b[1;33m:\u001b[0m\u001b[1;33m\u001b[0m\u001b[1;33m\u001b[0m\u001b[0m\n\u001b[0;32m    358\u001b[0m         raise ValueError(\"time data %r does not match format %r\" %\n\u001b[1;32m--> 359\u001b[1;33m                          (data_string, format))\n\u001b[0m\u001b[0;32m    360\u001b[0m     \u001b[1;32mif\u001b[0m \u001b[0mlen\u001b[0m\u001b[1;33m(\u001b[0m\u001b[0mdata_string\u001b[0m\u001b[1;33m)\u001b[0m \u001b[1;33m!=\u001b[0m \u001b[0mfound\u001b[0m\u001b[1;33m.\u001b[0m\u001b[0mend\u001b[0m\u001b[1;33m(\u001b[0m\u001b[1;33m)\u001b[0m\u001b[1;33m:\u001b[0m\u001b[1;33m\u001b[0m\u001b[1;33m\u001b[0m\u001b[0m\n\u001b[0;32m    361\u001b[0m         raise ValueError(\"unconverted data remains: %s\" %\n",
      "\u001b[1;31mValueError\u001b[0m: time data '' does not match format '%Y-%m-%d'"
     ]
    }
   ],
   "source": [
    "f_nac = input('Ingrese su fecha de nacimiento aaaa-mm-dd')\n",
    "edad = edad(f_nac)"
   ]
  },
  {
   "attachments": {},
   "cell_type": "markdown",
   "metadata": {},
   "source": [
    "### Ejercicio 4"
   ]
  },
  {
   "cell_type": "code",
   "execution_count": null,
   "metadata": {},
   "outputs": [],
   "source": [
    "def tuple2str(tuple):\n",
    "    l = len(tuple)\n",
    "    a = [0]*l\n",
    "    for index,var in enumerate(tuple):\n",
    "        a[index] = str(tuple[index])\n",
    "    concatenated_string = ''.join(a)\n",
    "    print(concatenated_string)\n"
   ]
  },
  {
   "cell_type": "code",
   "execution_count": null,
   "metadata": {},
   "outputs": [
    {
     "name": "stdout",
     "output_type": "stream",
     "text": [
      "holaCHINA3567JAJA\n"
     ]
    }
   ],
   "source": [
    "t = ('hola','CHINA',3,5,6,7,'JAJA')\n",
    "d = tuple2str(t)\n"
   ]
  },
  {
   "attachments": {},
   "cell_type": "markdown",
   "metadata": {},
   "source": [
    "### Ejercicio 5"
   ]
  },
  {
   "cell_type": "code",
   "execution_count": null,
   "metadata": {},
   "outputs": [],
   "source": [
    "def filt_vac(lista):\n",
    "    mi_lista_sin_vacios = list(filter(bool, lista))\n",
    "    print(mi_lista_sin_vacios)"
   ]
  },
  {
   "cell_type": "code",
   "execution_count": null,
   "metadata": {},
   "outputs": [
    {
     "name": "stdout",
     "output_type": "stream",
     "text": [
      "['hola', ('a', 'b', 'c'), 'adios', 'buenos', 'dias']\n"
     ]
    }
   ],
   "source": [
    "mi_lista = [\"hola\", (), ('a','b','c'), \"adios\", (), \"buenos\", \"\", \"dias\"]\n",
    "filt_vac(mi_lista)"
   ]
  },
  {
   "attachments": {},
   "cell_type": "markdown",
   "metadata": {},
   "source": [
    "### Ejercicio 6"
   ]
  },
  {
   "cell_type": "code",
   "execution_count": null,
   "metadata": {},
   "outputs": [],
   "source": [
    "def tup_ave(tupla):\n",
    "    l = len(tupla)\n",
    "    a = [0]*l\n",
    "    for i, var in enumerate(tupla):\n",
    "        a[i] = np.mean(list(var))\n",
    "    return a\n",
    "    "
   ]
  },
  {
   "cell_type": "code",
   "execution_count": null,
   "metadata": {},
   "outputs": [
    {
     "name": "stdout",
     "output_type": "stream",
     "text": [
      "[2.0, 5.0, 8.0]\n"
     ]
    }
   ],
   "source": [
    "tupla = ((1,2,3),(4,5,6),(7,8,9))\n",
    "av = tup_ave(tupla)\n",
    "print(av)"
   ]
  },
  {
   "attachments": {},
   "cell_type": "markdown",
   "metadata": {},
   "source": [
    "### Ejercicio 7"
   ]
  },
  {
   "cell_type": "code",
   "execution_count": null,
   "metadata": {},
   "outputs": [
    {
     "name": "stdout",
     "output_type": "stream",
     "text": [
      "{'1111': '20.56'}\n",
      "{'1111': '20.56', '2222': '20'}\n",
      "{'1111': '20.56', '2222': '20', '3333': '100.40'}\n",
      "EL valor pendiente de pago es $140.96\n",
      "EL valor pendiente de pago es $140.96\n",
      "20\n",
      "EL valor pendiente de pago es $120.96000000000001\n"
     ]
    }
   ],
   "source": [
    "x = int(input('Marque 1 para agregar nueva factura, 2 para pagar una existente y 3 para ver el saldo'))\n",
    "dicc = {}\n",
    "while (x<4):\n",
    "    if (x == 1):\n",
    "        fact = input('Ingrese los 4 digitos de la factura')\n",
    "        if fact.isdigit() and len(fact) == 4:\n",
    "            cant = input('Ingrese la cantidad en dolares')\n",
    "            dicc[fact] = cant\n",
    "            print(dicc)\n",
    "        else:\n",
    "            print(\"Llave inválida, por favor introduce un número de 4 dígitos.\")\n",
    "        x = int(input('Marque 1 para agregar nueva factura, 2 para pagar una existente y 3 para ver el saldo'))\n",
    "    elif (x == 2):\n",
    "        pago = input('Que factura quiere pagar?')\n",
    "        print(dicc[pago])\n",
    "        del dicc[pago]\n",
    "        x = int(input('Marque 1 para agregar nueva factura, 2 para pagar una existente y 3 para ver el saldo'))\n",
    "    elif (x==3):\n",
    "        suma =0\n",
    "        for valor in dicc.values():\n",
    "            suma += float(valor)\n",
    "        print(f'EL valor pendiente de pago es ${suma}')\n",
    "        x = int(input('Marque 1 para agregar nueva factura, 2 para pagar una existente y 3 para ver el saldo'))\n",
    "\n"
   ]
  },
  {
   "attachments": {},
   "cell_type": "markdown",
   "metadata": {},
   "source": [
    "### Ejercicio 6"
   ]
  },
  {
   "cell_type": "code",
   "execution_count": 35,
   "metadata": {},
   "outputs": [],
   "source": [
    "def crear_baraja():\n",
    "    tipos = ['T', 'C', 'P', 'E']\n",
    "    numeros = ['{:02d}'.format(i) for i in range(1, 14)]\n",
    "    baraja = set()\n",
    "    for tipo in tipos:\n",
    "        for numero in numeros:\n",
    "            carta = tipo + numero\n",
    "            baraja.add(carta)\n",
    "    return baraja\n",
    "\n",
    "def crear_conjuntos(cartas):\n",
    "    n1 = random.randint(1, len(cartas))\n",
    "    n2 = random.randint(1, len(cartas) - n1)\n",
    "    conjunto1 = set(random.sample(cartas, n1))\n",
    "    conjunto2 = set(random.sample(cartas, n2))\n",
    "    return conjunto1, conjunto2"
   ]
  },
  {
   "cell_type": "code",
   "execution_count": 36,
   "metadata": {},
   "outputs": [],
   "source": [
    "baraja = crear_baraja()\n",
    "c1,c2 = crear_conjuntos(baraja)\n"
   ]
  },
  {
   "cell_type": "code",
   "execution_count": 38,
   "metadata": {},
   "outputs": [
    {
     "name": "stdout",
     "output_type": "stream",
     "text": [
      "P(c1∩c2) = 0.057692307692307696 y P(c1)*P(c2) = 0.09319526627218935, ya que no son iguales no son independientes\n"
     ]
    }
   ],
   "source": [
    "P_c1 = len(c1)/len(baraja)\n",
    "P_c2 = len(c2)/len(baraja)\n",
    "c_int = c1.intersection(c2)\n",
    "P_c_int = len(c_int) / len(baraja)\n",
    "print(f'P(c1∩c2) = {P_c_int} y P(c1)*P(c2) = {P_c1*P_c2}, ya que no son iguales no son independientes')\n",
    "\n",
    "\n"
   ]
  },
  {
   "cell_type": "code",
   "execution_count": 41,
   "metadata": {},
   "outputs": [
    {
     "name": "stdout",
     "output_type": "stream",
     "text": [
      "La regla de la suma se cumple ya que P(c1Uc2) = 0.8653846153846154 y P(c1)+P(c2)-P(c1Intc2) = 0.8653846153846154\n"
     ]
    }
   ],
   "source": [
    "c1Uc2 = c1.union(c2)\n",
    "Pc1Uc2 = len(c1Uc2)/len(baraja)\n",
    "print(f'La regla de la suma se cumple ya que P(c1Uc2) = {Pc1Uc2} y P(c1)+P(c2)-P(c1Intc2) = {P_c1+P_c2-P_c_int}')\n"
   ]
  }
 ],
 "metadata": {
  "kernelspec": {
   "display_name": "MaestriaDS",
   "language": "python",
   "name": "python3"
  },
  "language_info": {
   "codemirror_mode": {
    "name": "ipython",
    "version": 3
   },
   "file_extension": ".py",
   "mimetype": "text/x-python",
   "name": "python",
   "nbconvert_exporter": "python",
   "pygments_lexer": "ipython3",
   "version": "3.7.16"
  },
  "orig_nbformat": 4
 },
 "nbformat": 4,
 "nbformat_minor": 2
}
