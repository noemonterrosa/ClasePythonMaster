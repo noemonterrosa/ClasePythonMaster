{
 "cells": [
  {
   "attachments": {},
   "cell_type": "markdown",
   "metadata": {},
   "source": [
    "# Laboratorio 2"
   ]
  },
  {
   "cell_type": "code",
   "execution_count": 86,
   "metadata": {},
   "outputs": [],
   "source": [
    "import math\n",
    "import numpy as np\n",
    "import datetime"
   ]
  },
  {
   "attachments": {},
   "cell_type": "markdown",
   "metadata": {},
   "source": [
    "### Ejercicio 1"
   ]
  },
  {
   "cell_type": "code",
   "execution_count": 14,
   "metadata": {},
   "outputs": [],
   "source": [
    "def Segundos(seg):\n",
    "    horas = seg // 3600\n",
    "    minutos = (seg % 3600) // 60\n",
    "    segundos = (seg % 3600) % 60\n",
    "    return horas, minutos, segundos\n"
   ]
  },
  {
   "cell_type": "code",
   "execution_count": 15,
   "metadata": {},
   "outputs": [
    {
     "name": "stdout",
     "output_type": "stream",
     "text": [
      "los segundos 7200 en formato hh:mm:ss son: 2 horas, 0 minutos, 0 segundos\n"
     ]
    }
   ],
   "source": [
    "segs = 7200\n",
    "horas, min, seg = Segundos(segs)\n",
    "print(f'los segundos {segs} en formato hh:mm:ss son: {horas} horas, {min} minutos, {seg} segundos')"
   ]
  },
  {
   "attachments": {},
   "cell_type": "markdown",
   "metadata": {},
   "source": [
    "### Ejercicio 2"
   ]
  },
  {
   "cell_type": "code",
   "execution_count": 16,
   "metadata": {},
   "outputs": [],
   "source": [
    "def triangulo(num,sim):\n",
    "    if (num <21):\n",
    "        for i in range(num):\n",
    "            print(f'   {sim} \\n  {sim}{sim}{sim} \\n {sim}{sim}{sim}{sim}{sim} \\n')\n",
    "    else:\n",
    "        print(f'Error, el numero tiene que ser entre 4 y 20')\n",
    "\n",
    "\n",
    "\n"
   ]
  },
  {
   "cell_type": "code",
   "execution_count": 17,
   "metadata": {},
   "outputs": [
    {
     "name": "stdout",
     "output_type": "stream",
     "text": [
      "   * \n",
      "  *** \n",
      " ***** \n",
      "\n",
      "   * \n",
      "  *** \n",
      " ***** \n",
      "\n",
      "   * \n",
      "  *** \n",
      " ***** \n",
      "\n",
      "   * \n",
      "  *** \n",
      " ***** \n",
      "\n",
      "   * \n",
      "  *** \n",
      " ***** \n",
      "\n",
      "   * \n",
      "  *** \n",
      " ***** \n",
      "\n",
      "   * \n",
      "  *** \n",
      " ***** \n",
      "\n",
      "   * \n",
      "  *** \n",
      " ***** \n",
      "\n",
      "   * \n",
      "  *** \n",
      " ***** \n",
      "\n",
      "   * \n",
      "  *** \n",
      " ***** \n",
      "\n"
     ]
    }
   ],
   "source": [
    "sim = '*'\n",
    "triangulo(10,sim)"
   ]
  },
  {
   "attachments": {},
   "cell_type": "markdown",
   "metadata": {},
   "source": [
    "### Ejercicio 3"
   ]
  },
  {
   "cell_type": "code",
   "execution_count": 79,
   "metadata": {},
   "outputs": [],
   "source": [
    "import datetime\n",
    "import math\n",
    "def edad(f_nac):\n",
    "    fecha_nacimiento = datetime.datetime.strptime(f_nac, '%Y-%m-%d')\n",
    "    month = datetime.datetime.now().month - fecha_nacimiento.month\n",
    "    if month<0:\n",
    "        year = math.floor(datetime.datetime.now().year - fecha_nacimiento.year +month/12)\n",
    "        month = 12 + month\n",
    "    else:\n",
    "        year = datetime.datetime.now().year - fecha_nacimiento.year\n",
    "    day = datetime.datetime.now().day - fecha_nacimiento.day\n",
    "    print(f'Tu edad es: {year} años, {month} meses con {day} dias')\n"
   ]
  },
  {
   "cell_type": "code",
   "execution_count": 80,
   "metadata": {},
   "outputs": [
    {
     "name": "stdout",
     "output_type": "stream",
     "text": [
      "Tu edad es: 31 años, 2 meses con 16 dias\n"
     ]
    }
   ],
   "source": [
    "f_nac = input('Ingrese su fecha de nacimiento aaaa-mm-dd')\n",
    "edad = edad(f_nac)"
   ]
  },
  {
   "attachments": {},
   "cell_type": "markdown",
   "metadata": {},
   "source": [
    "### Ejercicio 4"
   ]
  },
  {
   "cell_type": "code",
   "execution_count": 58,
   "metadata": {},
   "outputs": [],
   "source": [
    "def tuple2str(tuple):\n",
    "    l = len(tuple)\n",
    "    a = [0]*l\n",
    "    for index,var in enumerate(tuple):\n",
    "        a[index] = str(tuple[index])\n",
    "    concatenated_string = ''.join(a)\n",
    "    print(concatenated_string)\n"
   ]
  },
  {
   "cell_type": "code",
   "execution_count": 59,
   "metadata": {},
   "outputs": [
    {
     "name": "stdout",
     "output_type": "stream",
     "text": [
      "holaCHINA3567JAJA\n"
     ]
    }
   ],
   "source": [
    "t = ('hola','CHINA',3,5,6,7,'JAJA')\n",
    "d = tuple2str(t)\n"
   ]
  },
  {
   "attachments": {},
   "cell_type": "markdown",
   "metadata": {},
   "source": [
    "### Ejercicio 5"
   ]
  },
  {
   "cell_type": "code",
   "execution_count": 83,
   "metadata": {},
   "outputs": [],
   "source": [
    "def filt_vac(lista):\n",
    "    mi_lista_sin_vacios = list(filter(bool, lista))\n",
    "    print(mi_lista_sin_vacios)"
   ]
  },
  {
   "cell_type": "code",
   "execution_count": 85,
   "metadata": {},
   "outputs": [
    {
     "name": "stdout",
     "output_type": "stream",
     "text": [
      "['hola', ('a', 'b', 'c'), 'adios', 'buenos', 'dias']\n"
     ]
    }
   ],
   "source": [
    "mi_lista = [\"hola\", (), ('a','b','c'), \"adios\", (), \"buenos\", \"\", \"dias\"]\n",
    "filt_vac(mi_lista)"
   ]
  },
  {
   "attachments": {},
   "cell_type": "markdown",
   "metadata": {},
   "source": [
    "### Ejercicio 6"
   ]
  },
  {
   "cell_type": "code",
   "execution_count": 89,
   "metadata": {},
   "outputs": [],
   "source": [
    "def tup_ave(tupla):\n",
    "    l = len(tupla)\n",
    "    a = [0]*l\n",
    "    for i, var in enumerate(tupla):\n",
    "        a[i] = np.mean(list(var))\n",
    "    return a\n",
    "    "
   ]
  },
  {
   "cell_type": "code",
   "execution_count": 90,
   "metadata": {},
   "outputs": [
    {
     "name": "stdout",
     "output_type": "stream",
     "text": [
      "[2.0, 5.0, 8.0]\n"
     ]
    }
   ],
   "source": [
    "tupla = ((1,2,3),(4,5,6),(7,8,9))\n",
    "av = tup_ave(tupla)\n",
    "print(av)"
   ]
  },
  {
   "attachments": {},
   "cell_type": "markdown",
   "metadata": {},
   "source": [
    "### Ejercicio 7"
   ]
  },
  {
   "cell_type": "code",
   "execution_count": 113,
   "metadata": {},
   "outputs": [
    {
     "name": "stdout",
     "output_type": "stream",
     "text": [
      "{'1111': '10.50'}\n",
      "{'1111': '10.50', '2222': '10.50'}\n",
      "EL valor pendiente de pago es $21.0\n",
      "10.50\n",
      "EL valor pendiente de pago es $10.5\n"
     ]
    },
    {
     "ename": "ValueError",
     "evalue": "invalid literal for int() with base 10: ''",
     "output_type": "error",
     "traceback": [
      "\u001b[1;31m---------------------------------------------------------------------------\u001b[0m",
      "\u001b[1;31mValueError\u001b[0m                                Traceback (most recent call last)",
      "\u001b[1;32m~\\AppData\\Local\\Temp\\ipykernel_9752\\3779095219.py\u001b[0m in \u001b[0;36m<module>\u001b[1;34m\u001b[0m\n\u001b[0;32m     21\u001b[0m             \u001b[0msuma\u001b[0m \u001b[1;33m+=\u001b[0m \u001b[0mfloat\u001b[0m\u001b[1;33m(\u001b[0m\u001b[0mvalor\u001b[0m\u001b[1;33m)\u001b[0m\u001b[1;33m\u001b[0m\u001b[1;33m\u001b[0m\u001b[0m\n\u001b[0;32m     22\u001b[0m         \u001b[0mprint\u001b[0m\u001b[1;33m(\u001b[0m\u001b[1;34mf'EL valor pendiente de pago es ${suma}'\u001b[0m\u001b[1;33m)\u001b[0m\u001b[1;33m\u001b[0m\u001b[1;33m\u001b[0m\u001b[0m\n\u001b[1;32m---> 23\u001b[1;33m         \u001b[0mx\u001b[0m \u001b[1;33m=\u001b[0m \u001b[0mint\u001b[0m\u001b[1;33m(\u001b[0m\u001b[0minput\u001b[0m\u001b[1;33m(\u001b[0m\u001b[1;34m'Marque 1 para agregar nueva factura, 2 para pagar una existente y 3 para ver el saldo'\u001b[0m\u001b[1;33m)\u001b[0m\u001b[1;33m)\u001b[0m\u001b[1;33m\u001b[0m\u001b[1;33m\u001b[0m\u001b[0m\n\u001b[0m\u001b[0;32m     24\u001b[0m \u001b[1;33m\u001b[0m\u001b[0m\n",
      "\u001b[1;31mValueError\u001b[0m: invalid literal for int() with base 10: ''"
     ]
    }
   ],
   "source": [
    "x = int(input('Marque 1 para agregar nueva factura, 2 para pagar una existente y 3 para ver el saldo'))\n",
    "dicc = {}\n",
    "while (x<4):\n",
    "    if (x == 1):\n",
    "        fact = input('Ingrese los 4 digitos de la factura')\n",
    "        if fact.isdigit() and len(fact) == 4:\n",
    "            cant = input('Ingrese la cantidad en dolares')\n",
    "            dicc[fact] = cant\n",
    "            print(dicc)\n",
    "        else:\n",
    "            print(\"Llave inválida, por favor introduce un número de 4 dígitos.\")\n",
    "        x = int(input('Marque 1 para agregar nueva factura, 2 para pagar una existente y 3 para ver el saldo'))\n",
    "    elif (x == 2):\n",
    "        pago = input('Que factura quiere pagar?')\n",
    "        print(dicc[pago])\n",
    "        del dicc[pago]\n",
    "        x = int(input('Marque 1 para agregar nueva factura, 2 para pagar una existente y 3 para ver el saldo'))\n",
    "    elif (x==3):\n",
    "        suma =0\n",
    "        for valor in dicc.values():\n",
    "            suma += float(valor)\n",
    "        print(f'EL valor pendiente de pago es ${suma}')\n",
    "        x = int(input('Marque 1 para agregar nueva factura, 2 para pagar una existente y 3 para ver el saldo'))\n",
    "\n"
   ]
  }
 ],
 "metadata": {
  "kernelspec": {
   "display_name": "MaestriaDS",
   "language": "python",
   "name": "python3"
  },
  "language_info": {
   "codemirror_mode": {
    "name": "ipython",
    "version": 3
   },
   "file_extension": ".py",
   "mimetype": "text/x-python",
   "name": "python",
   "nbconvert_exporter": "python",
   "pygments_lexer": "ipython3",
   "version": "3.7.16"
  },
  "orig_nbformat": 4
 },
 "nbformat": 4,
 "nbformat_minor": 2
}
