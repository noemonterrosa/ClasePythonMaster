{
 "cells": [
  {
   "attachments": {},
   "cell_type": "markdown",
   "metadata": {},
   "source": [
    "# Laboratorio 2"
   ]
  },
  {
   "cell_type": "code",
   "execution_count": 42,
   "metadata": {},
   "outputs": [],
   "source": [
    "import math\n",
    "import numpy as np\n",
    "import datetime\n",
    "import random"
   ]
  },
  {
   "attachments": {},
   "cell_type": "markdown",
   "metadata": {},
   "source": [
    "### Ejercicio 1"
   ]
  },
  {
   "cell_type": "code",
   "execution_count": 43,
   "metadata": {},
   "outputs": [],
   "source": [
    "def Segundos(seg):\n",
    "    horas = seg // 3600\n",
    "    minutos = (seg % 3600) // 60\n",
    "    segundos = (seg % 3600) % 60\n",
    "    return horas, minutos, segundos\n"
   ]
  },
  {
   "cell_type": "code",
   "execution_count": 44,
   "metadata": {},
   "outputs": [
    {
     "name": "stdout",
     "output_type": "stream",
     "text": [
      "los segundos 7200 en formato hh:mm:ss son: 2 horas, 0 minutos, 0 segundos\n"
     ]
    }
   ],
   "source": [
    "segs = 7200\n",
    "horas, min, seg = Segundos(segs)\n",
    "print(f'los segundos {segs} en formato hh:mm:ss son: {horas} horas, {min} minutos, {seg} segundos')"
   ]
  },
  {
   "attachments": {},
   "cell_type": "markdown",
   "metadata": {},
   "source": [
    "### Ejercicio 2"
   ]
  },
  {
   "cell_type": "code",
   "execution_count": 45,
   "metadata": {},
   "outputs": [],
   "source": [
    "def triangulo(num,sim):\n",
    "    if (num <21):\n",
    "        for i in range(num):\n",
    "            print(f'   {sim} \\n  {sim}{sim}{sim} \\n {sim}{sim}{sim}{sim}{sim} \\n')\n",
    "    else:\n",
    "        print(f'Error, el numero tiene que ser entre 4 y 20')\n",
    "\n",
    "\n",
    "\n"
   ]
  },
  {
   "cell_type": "code",
   "execution_count": 46,
   "metadata": {},
   "outputs": [
    {
     "name": "stdout",
     "output_type": "stream",
     "text": [
      "   * \n",
      "  *** \n",
      " ***** \n",
      "\n",
      "   * \n",
      "  *** \n",
      " ***** \n",
      "\n",
      "   * \n",
      "  *** \n",
      " ***** \n",
      "\n",
      "   * \n",
      "  *** \n",
      " ***** \n",
      "\n",
      "   * \n",
      "  *** \n",
      " ***** \n",
      "\n",
      "   * \n",
      "  *** \n",
      " ***** \n",
      "\n",
      "   * \n",
      "  *** \n",
      " ***** \n",
      "\n",
      "   * \n",
      "  *** \n",
      " ***** \n",
      "\n",
      "   * \n",
      "  *** \n",
      " ***** \n",
      "\n",
      "   * \n",
      "  *** \n",
      " ***** \n",
      "\n"
     ]
    }
   ],
   "source": [
    "sim = '*'\n",
    "triangulo(10,sim)"
   ]
  },
  {
   "attachments": {},
   "cell_type": "markdown",
   "metadata": {},
   "source": [
    "### Ejercicio 3"
   ]
  },
  {
   "cell_type": "code",
   "execution_count": 48,
   "metadata": {},
   "outputs": [],
   "source": [
    "def edad(f_nac):\n",
    "    fecha_nacimiento = datetime.datetime.strptime(f_nac, '%Y-%m-%d')\n",
    "    month = datetime.datetime.now().month - fecha_nacimiento.month\n",
    "    if month<0:\n",
    "        year = math.floor(datetime.datetime.now().year - fecha_nacimiento.year +month/12)\n",
    "        month = 12 + month\n",
    "    else:\n",
    "        year = datetime.datetime.now().year - fecha_nacimiento.year\n",
    "    day = datetime.datetime.now().day - fecha_nacimiento.day\n",
    "    print(f'Tu edad es: {year} años, {month} meses con {day} dias')\n"
   ]
  },
  {
   "cell_type": "code",
   "execution_count": 49,
   "metadata": {},
   "outputs": [
    {
     "name": "stdout",
     "output_type": "stream",
     "text": [
      "Tu edad es: 31 años, 2 meses con 18 dias\n"
     ]
    }
   ],
   "source": [
    "f_nac = input('Ingrese su fecha de nacimiento aaaa-mm-dd')\n",
    "edad = edad(f_nac)"
   ]
  },
  {
   "attachments": {},
   "cell_type": "markdown",
   "metadata": {},
   "source": [
    "### Ejercicio 4"
   ]
  },
  {
   "cell_type": "code",
   "execution_count": 50,
   "metadata": {},
   "outputs": [],
   "source": [
    "def tuple2str(tuple):\n",
    "    l = len(tuple)\n",
    "    a = [0]*l\n",
    "    for index,var in enumerate(tuple):\n",
    "        a[index] = str(tuple[index])\n",
    "    concatenated_string = ''.join(a)\n",
    "    print(concatenated_string)\n"
   ]
  },
  {
   "cell_type": "code",
   "execution_count": 51,
   "metadata": {},
   "outputs": [
    {
     "name": "stdout",
     "output_type": "stream",
     "text": [
      "holaCHINA3567JAJA\n"
     ]
    }
   ],
   "source": [
    "t = ('hola','CHINA',3,5,6,7,'JAJA')\n",
    "d = tuple2str(t)\n"
   ]
  },
  {
   "attachments": {},
   "cell_type": "markdown",
   "metadata": {},
   "source": [
    "### Ejercicio 5"
   ]
  },
  {
   "cell_type": "code",
   "execution_count": 52,
   "metadata": {},
   "outputs": [],
   "source": [
    "def filt_vac(lista):\n",
    "    mi_lista_sin_vacios = list(filter(bool, lista))\n",
    "    print(mi_lista_sin_vacios)"
   ]
  },
  {
   "cell_type": "code",
   "execution_count": 53,
   "metadata": {},
   "outputs": [
    {
     "name": "stdout",
     "output_type": "stream",
     "text": [
      "['hola', ('a', 'b', 'c'), 'adios', 'buenos', 'dias']\n"
     ]
    }
   ],
   "source": [
    "mi_lista = [\"hola\", (), ('a','b','c'), \"adios\", (), \"buenos\", \"\", \"dias\"]\n",
    "filt_vac(mi_lista)"
   ]
  },
  {
   "attachments": {},
   "cell_type": "markdown",
   "metadata": {},
   "source": [
    "### Ejercicio 6"
   ]
  },
  {
   "cell_type": "code",
   "execution_count": 54,
   "metadata": {},
   "outputs": [],
   "source": [
    "def tup_ave(tupla):\n",
    "    l = len(tupla)\n",
    "    a = [0]*l\n",
    "    for i, var in enumerate(tupla):\n",
    "        a[i] = np.mean(list(var))\n",
    "    return a\n",
    "    "
   ]
  },
  {
   "cell_type": "code",
   "execution_count": 55,
   "metadata": {},
   "outputs": [
    {
     "name": "stdout",
     "output_type": "stream",
     "text": [
      "[2.0, 5.0, 8.0]\n"
     ]
    }
   ],
   "source": [
    "tupla = ((1,2,3),(4,5,6),(7,8,9))\n",
    "av = tup_ave(tupla)\n",
    "print(av)"
   ]
  },
  {
   "attachments": {},
   "cell_type": "markdown",
   "metadata": {},
   "source": [
    "### Ejercicio 7"
   ]
  },
  {
   "cell_type": "code",
   "execution_count": 57,
   "metadata": {},
   "outputs": [
    {
     "name": "stdout",
     "output_type": "stream",
     "text": [
      "{'1111': '20.75'}\n",
      "{'1111': '20.75', '2222': '100'}\n",
      "EL valor pendiente de pago es $120.75\n",
      "EL valor pendiente de pago es $120.75\n",
      "20.75\n"
     ]
    }
   ],
   "source": [
    "x = int(input('Marque 1 para agregar nueva factura, 2 para pagar una existente y 3 para ver el saldo'))\n",
    "dicc = {}\n",
    "while (x<4):\n",
    "    if (x == 1):\n",
    "        fact = input('Ingrese los 4 digitos de la factura')\n",
    "        if fact.isdigit() and len(fact) == 4:\n",
    "            cant = input('Ingrese la cantidad en dolares')\n",
    "            dicc[fact] = cant\n",
    "            print(dicc)\n",
    "        else:\n",
    "            print(\"Llave inválida, por favor introduce un número de 4 dígitos.\")\n",
    "        x = int(input('Marque 1 para agregar nueva factura, 2 para pagar una existente y 3 para ver el saldo'))\n",
    "    elif (x == 2):\n",
    "        pago = input('Que factura quiere pagar?')\n",
    "        print(dicc[pago])\n",
    "        del dicc[pago]\n",
    "        x = int(input('Marque 1 para agregar nueva factura, 2 para pagar una existente y 3 para ver el saldo'))\n",
    "    elif (x==3):\n",
    "        suma =0\n",
    "        for valor in dicc.values():\n",
    "            suma += float(valor)\n",
    "        print(f'EL valor pendiente de pago es ${suma}')\n",
    "        x = int(input('Marque 1 para agregar nueva factura, 2 para pagar una existente y 3 para ver el saldo'))\n",
    "\n"
   ]
  },
  {
   "attachments": {},
   "cell_type": "markdown",
   "metadata": {},
   "source": [
    "### Ejercicio 6"
   ]
  },
  {
   "cell_type": "code",
   "execution_count": 58,
   "metadata": {},
   "outputs": [],
   "source": [
    "def crear_baraja():\n",
    "    tipos = ['T', 'C', 'P', 'E']\n",
    "    numeros = ['{:02d}'.format(i) for i in range(1, 14)]\n",
    "    baraja = set()\n",
    "    for tipo in tipos:\n",
    "        for numero in numeros:\n",
    "            carta = tipo + numero\n",
    "            baraja.add(carta)\n",
    "    return baraja\n",
    "\n",
    "def crear_conjuntos(cartas):\n",
    "    n1 = random.randint(1, len(cartas))\n",
    "    n2 = random.randint(1, len(cartas) - n1)\n",
    "    conjunto1 = set(random.sample(cartas, n1))\n",
    "    conjunto2 = set(random.sample(cartas, n2))\n",
    "    return conjunto1, conjunto2"
   ]
  },
  {
   "cell_type": "code",
   "execution_count": 59,
   "metadata": {},
   "outputs": [],
   "source": [
    "baraja = crear_baraja()\n",
    "c1,c2 = crear_conjuntos(baraja)\n"
   ]
  },
  {
   "cell_type": "code",
   "execution_count": 62,
   "metadata": {},
   "outputs": [
    {
     "name": "stdout",
     "output_type": "stream",
     "text": [
      "Dado que P(c1∩c2) = 0.019230769230769232 y P(c1)*P(c2) = 0.01775147928994083,  no son iguales, entonces no son independientes\n"
     ]
    }
   ],
   "source": [
    "P_c1 = len(c1)/len(baraja)\n",
    "P_c2 = len(c2)/len(baraja)\n",
    "c_int = c1.intersection(c2)\n",
    "P_c_int = len(c_int) / len(baraja)\n",
    "print(f'Dado que P(c1∩c2) = {P_c_int} y P(c1)*P(c2) = {P_c1*P_c2},  no son iguales, entonces no son independientes')\n",
    "\n",
    "\n"
   ]
  },
  {
   "cell_type": "code",
   "execution_count": 63,
   "metadata": {},
   "outputs": [
    {
     "name": "stdout",
     "output_type": "stream",
     "text": [
      "La regla de la suma se cumple ya que P(c1Uc2) = 0.9230769230769231 y P(c1)+P(c2)-P(c1Intc2) = 0.9230769230769231\n"
     ]
    }
   ],
   "source": [
    "c1Uc2 = c1.union(c2)\n",
    "Pc1Uc2 = len(c1Uc2)/len(baraja)\n",
    "print(f'La regla de la suma se cumple ya que P(c1Uc2) = {Pc1Uc2} y P(c1)+P(c2)-P(c1Intc2) = {P_c1+P_c2-P_c_int}')\n"
   ]
  }
 ],
 "metadata": {
  "kernelspec": {
   "display_name": "MaestriaDS",
   "language": "python",
   "name": "python3"
  },
  "language_info": {
   "codemirror_mode": {
    "name": "ipython",
    "version": 3
   },
   "file_extension": ".py",
   "mimetype": "text/x-python",
   "name": "python",
   "nbconvert_exporter": "python",
   "pygments_lexer": "ipython3",
   "version": "3.7.16"
  },
  "orig_nbformat": 4
 },
 "nbformat": 4,
 "nbformat_minor": 2
}
